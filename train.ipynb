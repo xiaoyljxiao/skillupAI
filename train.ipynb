{
 "cells": [
  {
   "cell_type": "markdown",
   "metadata": {},
   "source": [
    "# 学習方法の例"
   ]
  },
  {
   "cell_type": "code",
   "execution_count": 1,
   "metadata": {},
   "outputs": [
    {
     "name": "stderr",
     "output_type": "stream",
     "text": [
      "C:\\Users\\onoza\\Anaconda3\\lib\\site-packages\\sklearn\\utils\\validation.py:37: DeprecationWarning: distutils Version classes are deprecated. Use packaging.version instead.\n",
      "  LARGE_SPARSE_SUPPORTED = LooseVersion(scipy_version) >= '0.14.0'\n"
     ]
    }
   ],
   "source": [
    "import numpy as np\n",
    "import pandas as pd\n",
    "import matplotlib.pyplot as plt\n",
    "from common.layers import *\n",
    "from sklearn.model_selection import train_test_split\n",
    "import pickle"
   ]
  },
  {
   "cell_type": "markdown",
   "metadata": {},
   "source": [
    "## データを読む1"
   ]
  },
  {
   "cell_type": "code",
   "execution_count": 2,
   "metadata": {},
   "outputs": [
    {
     "name": "stdout",
     "output_type": "stream",
     "text": [
      "train_data.shape= (3000, 1, 28, 28)\n",
      "train_label.shape= (3000, 15)\n"
     ]
    }
   ],
   "source": [
    "train_data = np.load(\"../1_data/train_data.npy\")\n",
    "train_label = np.load(\"../1_data/train_label.npy\")\n",
    "#train_data = np.load(\"../1_data/imagedatagenerator/train_data_expansion.npy\")\n",
    "#train_label = np.load(\"../1_data/imagedatagenerator/train_label_expansion.npy\")\n",
    "\n",
    "print(\"train_data.shape=\", train_data.shape)\n",
    "print(\"train_label.shape=\", train_label.shape)\n",
    "\n",
    "#データ拡張\n",
    "#train_data_expansion = np.load(\"../1_data/imagedatagenerator/train_data_expansion.npy\")\n",
    "#train_label_expansion = np.load(\"../1_data/imagedatagenerator/train_label_expansion.npy\")\n",
    "#print(\"train_data_expansion.shape=\", train_data_expansion.shape)\n",
    "#print(\"train_label_expansion.shape=\", train_label_expansion.shape)\n",
    "#\n",
    "#train_data = np.concatenate([train_data, train_data_expansion])\n",
    "#train_label = np.concatenate([train_label, train_label_expansion])\n",
    "#\n",
    "#print(\"train_data.shape=\", train_data.shape)\n",
    "#print(\"train_label.shape=\", train_label.shape)"
   ]
  },
  {
   "cell_type": "code",
   "execution_count": 3,
   "metadata": {},
   "outputs": [],
   "source": [
    "from PIL import Image\n",
    "\n",
    "def show_image(img): \n",
    "    pil_img = Image.fromarray(img)\n",
    "    plt.imshow(pil_img)\n",
    "    plt.gray()\n",
    "    plt.show()\n",
    "    return\n",
    "\n",
    "#for i in range(3000):\n",
    "#    \n",
    "#    if(0.99<np.random.rand()):        \n",
    "#        img = train_data[i]\n",
    "#        img = img.reshape(28,28)\n",
    "#        img = np.uint8(img*255)\n",
    "#        show_image(img)\n",
    "#\n",
    "#        img = train_data[3000+i]\n",
    "#        img = img.reshape(28,28)\n",
    "#        img = np.uint8(img*255)\n",
    "#        show_image(img)\n",
    "#"
   ]
  },
  {
   "cell_type": "code",
   "execution_count": 4,
   "metadata": {
    "scrolled": false
   },
   "outputs": [
    {
     "name": "stdout",
     "output_type": "stream",
     "text": [
      "255.0\n",
      "0.0\n"
     ]
    }
   ],
   "source": [
    "# 正規化\n",
    "print(train_data.max())\n",
    "print(train_data.min())\n",
    "\n",
    "train_data = (train_data - train_data.min()) / train_data.max()\n",
    "train_data = train_data.astype('float32')\n",
    "# print(train_data)"
   ]
  },
  {
   "cell_type": "code",
   "execution_count": 5,
   "metadata": {},
   "outputs": [],
   "source": [
    "# 配列形式変更\n",
    "#train_data = train_data.reshape(-1, 28*28)\n",
    "#print(\"train_data.shape=\", train_data.shape)"
   ]
  },
  {
   "cell_type": "markdown",
   "metadata": {},
   "source": [
    "## trainとtestに分割する"
   ]
  },
  {
   "cell_type": "code",
   "execution_count": 6,
   "metadata": {
    "scrolled": true
   },
   "outputs": [
    {
     "name": "stdout",
     "output_type": "stream",
     "text": [
      "(2700, 1, 28, 28) (300, 1, 28, 28)\n"
     ]
    }
   ],
   "source": [
    "X_train, X_test, y_train, y_test = train_test_split(train_data, train_label, test_size=0.1, random_state=1234, shuffle=True)\n",
    "\n",
    "print(X_train.shape, X_test.shape)"
   ]
  },
  {
   "cell_type": "markdown",
   "metadata": {},
   "source": [
    "## 学習"
   ]
  },
  {
   "cell_type": "code",
   "execution_count": 7,
   "metadata": {
    "scrolled": true
   },
   "outputs": [
    {
     "name": "stdout",
     "output_type": "stream",
     "text": [
      "epoch=0\n",
      "0.6944444444444444 0.7466666666666667\n",
      "epoch=1\n",
      "0.8162962962962963 0.84\n",
      "epoch=2\n",
      "0.8488888888888889 0.8866666666666667\n",
      "epoch=3\n",
      "0.8703703703703703 0.8633333333333333\n",
      "epoch=4\n",
      "0.8992592592592593 0.8666666666666667\n",
      "epoch=5\n",
      "0.9059259259259259 0.9066666666666666\n",
      "epoch=6\n",
      "0.9296296296296296 0.9133333333333333\n",
      "epoch=7\n",
      "0.9362962962962963 0.9266666666666666\n",
      "epoch=8\n",
      "0.9451851851851852 0.9366666666666666\n",
      "epoch=9\n",
      "0.955925925925926 0.92\n"
     ]
    }
   ],
   "source": [
    "#%%debug\n",
    "epochs = 10\n",
    "batch_size = 100#余りがあるとエラーになる\n",
    "lr = 0.01\n",
    "\n",
    "# 繰り返し回数\n",
    "xsize = X_train.shape[0]\n",
    "iter_num = np.ceil(xsize / batch_size).astype(np.int)\n",
    "\n",
    "optimizer = RMSProp(lr=0.001, rho=0.9)\n",
    "#optimizer = Adam(lr=0.001, rho1=0.9, rho2=0.999)\n",
    "#optimizer = SGD(lr=0.01)\n",
    "\n",
    "\n",
    "\n",
    "\n",
    "# CNNのオブジェクト生成\n",
    "snet = SimpleConvNet(batch_size, input_dim=(1, 28, 28), \n",
    "                     conv_param={'filter_num':16, 'filter_size':3, 'pad':0, 'stride':1},\n",
    "                     pool_param={'pool_size':2, 'pad':0, 'stride':2},\n",
    "                     hidden_size=100, output_size=15, weight_init_std=0.01, weight_decay_lambda=0.01)\n",
    "\n",
    "train_loss = []\n",
    "test_loss = []\n",
    "train_accuracy = []\n",
    "test_accuracy = []\n",
    "\n",
    "for epoch in range(epochs):\n",
    "    print(\"epoch=%s\"%epoch)\n",
    "\n",
    "    # シャッフル\n",
    "    idx = np.arange(xsize)\n",
    "    np.random.shuffle(idx)\n",
    "\n",
    "    for it in range(iter_num):\n",
    "        #print(\"it=%s\"%it)\n",
    "\n",
    "        \"\"\"\n",
    "        ランダムなミニバッチを順番に取り出す\n",
    "        \"\"\"\n",
    "        #print(\"it=\", it)\n",
    "        mask = idx[batch_size*it : batch_size*(it+1)]\n",
    "\n",
    "        # ミニバッチの生成\n",
    "        x_train = X_train[mask]\n",
    "        t_train = y_train[mask]\n",
    "\n",
    "        # 勾配の計算 (誤差逆伝播法を用いる) \n",
    "        grads = snet.gradient(x_train, t_train)\n",
    "\n",
    "        # 更新\n",
    "        optimizer.update(snet.params, grads)\n",
    "\n",
    "    ## 学習経過の記録\n",
    "\n",
    "    # 訓練データにおけるloss\n",
    "#     print(\"calculating train_loss\")    \n",
    "    train_loss.append(snet.loss(X_train,  y_train))\n",
    "\n",
    "#     print(\"calculating test_loss\")\n",
    "    # テストデータにおけるloss\n",
    "    test_loss.append(snet.loss(X_test, y_test))\n",
    "\n",
    "#     print(\"calculating train_accuracy\")\n",
    "    # 訓練データにて精度を確認\n",
    "    train_accuracy.append(snet.accuracy(X_train, y_train))\n",
    "    \n",
    "#     print(\"calculating test_accuracy\")\n",
    "    # テストデータにて精度を算出\n",
    "    test_accuracy.append(snet.accuracy(X_test, y_test))\n",
    "    \n",
    "    print(train_accuracy[-1], test_accuracy[-1])\n",
    "    \n",
    "    #テストデータで98.5%の精度が出たら学習終了\n",
    "    if(test_accuracy[-1] > 0.985):\n",
    "        break\n",
    "        "
   ]
  },
  {
   "cell_type": "code",
   "execution_count": 8,
   "metadata": {
    "scrolled": true
   },
   "outputs": [
    {
     "name": "stdout",
     "output_type": "stream",
     "text": [
      "   train_loss  test_loss  train_accuracy  test_accuracy\n",
      "0    1.965624   1.946251        0.694444       0.746667\n",
      "1    1.406971   1.409422        0.816296       0.840000\n",
      "2    1.141704   1.112687        0.848889       0.886667\n",
      "3    0.953971   1.011392        0.870370       0.863333\n",
      "4    0.788703   0.827306        0.899259       0.866667\n",
      "5    0.718230   0.802514        0.905926       0.906667\n",
      "6    0.601178   0.678967        0.929630       0.913333\n",
      "7    0.547666   0.608301        0.936296       0.926667\n",
      "8    0.469260   0.539343        0.945185       0.936667\n",
      "9    0.442859   0.521642        0.955926       0.920000\n"
     ]
    },
    {
     "data": {
      "image/png": "[encoded data removed]",
      "text/plain": [
       "<Figure size 432x288 with 1 Axes>"
      ]
     },
     "metadata": {
      "needs_background": "light"
     },
     "output_type": "display_data"
    }
   ],
   "source": [
    "# lossのグラフ化\n",
    "df_log = pd.DataFrame({\"train_loss\":train_loss,\n",
    "             \"test_loss\":test_loss,\n",
    "             \"train_accuracy\":train_accuracy,\n",
    "             \"test_accuracy\":test_accuracy})\n",
    "print(df_log)\n",
    "df_log.plot()\n",
    "plt.ylabel(\"loss or accuracy\")\n",
    "plt.xlabel(\"epochs\")\n",
    "plt.show()"
   ]
  },
  {
   "cell_type": "code",
   "execution_count": 9,
   "metadata": {},
   "outputs": [],
   "source": [
    "#間違った画像を表示\n",
    "#snet.display_miss_img(X_test, y_test)"
   ]
  },
  {
   "cell_type": "markdown",
   "metadata": {},
   "source": [
    "## 学習済みモデルの出力"
   ]
  },
  {
   "cell_type": "code",
   "execution_count": 10,
   "metadata": {},
   "outputs": [],
   "source": [
    "#with open(\"katakana_model.pickle\", \"wb\") as f:\n",
    "#    pickle.dump(snet, f)"
   ]
  },
  {
   "cell_type": "code",
   "execution_count": 11,
   "metadata": {},
   "outputs": [
    {
     "name": "stdout",
     "output_type": "stream",
     "text": [
      "snet.params['beta1'] [ 0.09031114  0.05185595  0.07033049  0.09602429  0.06537135  0.0733259\n",
      "  0.0113774   0.10161191 -0.00367888  0.11902494  0.05190215  0.02374744\n",
      "  0.06763506  0.00547109  0.06790329  0.03600049]\n",
      "snet.params['gamma1'] [1.22100424 1.23638926 1.21292512 1.2255872  1.19630582 1.19637444\n",
      " 1.2243542  1.18993873 1.23070149 1.21072196 1.22379766 1.22649109\n",
      " 1.1050332  1.19516032 1.10493302 1.14125639]\n",
      "[-0.01235532 -0.00208604 -0.00306045 -0.01099033 -0.00476052 -0.00609277\n",
      " -0.00266093 -0.01422595  0.00024204 -0.02558796 -0.00287063 -0.0024922\n",
      "  0.037462   -0.00057631  0.03573264  0.01048576]\n",
      "[0.00040576 0.00023408 0.00026238 0.00022767 0.00026304 0.00028108\n",
      " 0.00030062 0.00026118 0.00037108 0.00041358 0.00032873 0.00035542\n",
      " 0.00014123 0.00019586 0.00015469 0.00022274]\n"
     ]
    }
   ],
   "source": [
    "\n",
    "#print(snet.params['W1'])\n",
    "\n",
    "\n",
    "\n",
    "#W1~4, b1~4を抽出\n",
    "for idx in range(1, 5):\n",
    "    with open(\"model_params\\katakana_model_W\" + str(idx) + \".pickle\", \"wb\") as f:\n",
    "        pickle.dump(snet.params['W' + str(idx)], f)\n",
    "    with open(\"model_params\\katakana_model_b\" + str(idx) + \".pickle\", \"wb\") as f:\n",
    "        pickle.dump(snet.params['b' + str(idx)], f)\n",
    "\n",
    "#バッチ正規化レイヤのパラメータを抽出\n",
    "with open(\"model_params\\katakana_model_gamma1.pickle\", \"wb\") as f:\n",
    "    pickle.dump(snet.params['gamma1'], f)\n",
    "with open(\"model_params\\katakana_model_beta1.pickle\", \"wb\") as f:\n",
    "    pickle.dump(snet.params['beta1'], f)\n",
    "with open(\"model_params\\katakana_model_moving_mean.pickle\", \"wb\") as f:\n",
    "    pickle.dump(snet.layers['BatchNorm1'].moving_mean, f)\n",
    "with open(\"model_params\\katakana_model_moving_var.pickle\", \"wb\") as f:\n",
    "    pickle.dump(snet.layers['BatchNorm1'].moving_var, f)\n",
    "\n",
    "\n",
    "    \n",
    "\n",
    "#print(\"snet.params['beta1']\", snet.params['beta1'])\n",
    "#print(\"snet.params['gamma1']\", snet.params['gamma1'])\n",
    "#print(snet.layers['BatchNorm1'].moving_mean)\n",
    "#print(snet.layers['BatchNorm1'].moving_var)"
   ]
  },
  {
   "cell_type": "code",
   "execution_count": null,
   "metadata": {},
   "outputs": [],
   "source": []
  },
  {
   "cell_type": "code",
   "execution_count": null,
   "metadata": {},
   "outputs": [],
   "source": []
  }
 ],
 "metadata": {
  "kernelspec": {
   "display_name": "Python 3",
   "language": "python",
   "name": "python3"
  },
  "language_info": {
   "codemirror_mode": {
    "name": "ipython",
    "version": 3
   },
   "file_extension": ".py",
   "mimetype": "text/x-python",
   "name": "python",
   "nbconvert_exporter": "python",
   "pygments_lexer": "ipython3",
   "version": "3.7.3"
  }
 },
 "nbformat": 4,
 "nbformat_minor": 2
}
