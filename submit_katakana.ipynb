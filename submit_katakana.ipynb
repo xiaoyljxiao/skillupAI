{
 "cells": [
  {
   "cell_type": "markdown",
   "metadata": {},
   "source": [
    "# カタカナ15文字を自動識別するモデルの構築\n",
    "# 課題投稿用Notebook\n",
    "* これは課題投稿用ファイルです。\n",
    "* このsubmit_katakana.ipynbファイルを編集し、学習済みモデルなどの必要ファイルを同じフォルダにおき、そのフォルダをzipしたものを投稿してください。"
   ]
  },
  {
   "cell_type": "code",
   "execution_count": 1,
   "metadata": {
    "scrolled": true
   },
   "outputs": [
    {
     "name": "stdout",
     "output_type": "stream",
     "text": [
      "0\n",
      "4.68080071736205 0.908\n",
      "1\n",
      "4.758286073743297 0.882\n",
      "2\n",
      "4.485191838589802 0.958\n",
      "3\n",
      "4.694503801231145 0.914\n",
      "4\n",
      "4.643741483990934 0.926\n",
      "5\n",
      "4.7551579125595165 0.892\n",
      "Test loss: 4.66961363791279\n",
      "Test accuracy: 0.9133333333333333\n"
     ]
    }
   ],
   "source": [
    "import numpy as np\n",
    "import glob\n",
    "import os,sys\n",
    "import util\n",
    "import pickle\n",
    "from common.layers import *\n",
    "\n",
    "def makedataset():\n",
    "    \"\"\"\n",
    "    データセットをつくる関数です。\n",
    "    自由に編集してください。\n",
    "    \"\"\"\n",
    "    \n",
    "    # 次の行は変更しないこと\n",
    "    test_data= util.loaddata()\n",
    "    \n",
    "    # 以下は自由に編集しても構いません\n",
    "    # 必要な前処理をここに記述してください  \n",
    "    \n",
    "    # 正規化\n",
    "    test_data = test_data / test_data.max()\n",
    "    test_data = test_data.astype('float32')\n",
    "    #print(test_data.shape)\n",
    "\n",
    "    # 配列形式変更\n",
    "    #test_data = test_data.reshape(-1, 28*28)\n",
    "    #print(test_data.shape)\n",
    "\n",
    "    return test_data\n",
    "\n",
    "\n",
    "def func_predict(test_data, test_label):\n",
    "    \"\"\"\n",
    "    予測する関数\n",
    "    data : 画像データ\n",
    "    return loss, accuracy\n",
    "    引数とreturn以外は、自由に編集してください    \n",
    "    \"\"\"\n",
    "    #with open(\"katakana_model.pickle\", \"rb\") as f:\n",
    "    #    model = pickle.load(f) \n",
    "    \n",
    "    # モデルのパラメータを再設定     \n",
    "    model = SimpleConvNet(batch_size = 256, input_dim=(1, 28, 28), \n",
    "                 conv_param={'filter_num':32, 'filter_size':3, 'pad':1, 'stride':1},\n",
    "                 pool_param={'pool_size':2, 'pad':0, 'stride':2},\n",
    "                 hidden_size=256, output_size=15, weight_init_std=0.01, weight_decay_lambda=0.01)\n",
    "\n",
    "    for idx in range(1, model.convLayerNum+1):\n",
    "        with open(\"model_params/katakana_model_CW\" + str(idx) + \".pickle\", \"rb\") as f:\n",
    "            model.params['CW' + str(idx)] = pickle.load(f)\n",
    "        with open(\"model_params/katakana_model_Cb\" + str(idx) + \".pickle\", \"rb\") as f:\n",
    "            model.params['Cb' + str(idx)] = pickle.load(f)\n",
    "    \n",
    "    for idx in range(1, model.affineLayerNum+1):\n",
    "        with open(\"model_params/katakana_model_AW\" + str(idx) + \".pickle\", \"rb\") as f:\n",
    "            model.params['AW' + str(idx)] = pickle.load(f)\n",
    "        with open(\"model_params/katakana_model_Ab\" + str(idx) + \".pickle\", \"rb\") as f:\n",
    "            model.params['Ab' + str(idx)] = pickle.load(f)\n",
    "    \n",
    "    for idx in range(1, model.bnLayerNum+1):\n",
    "        with open(\"model_params/katakana_model_gamma\" + str(idx) + \".pickle\", \"rb\") as f:\n",
    "            model.params['gamma' + str(idx)] = pickle.load(f)\n",
    "        with open(\"model_params/katakana_model_beta\" + str(idx) + \".pickle\", \"rb\") as f:\n",
    "            model.params['beta' + str(idx)] = pickle.load(f)\n",
    "        with open(\"model_params/katakana_model_moving_mean\" + str(idx) + \".pickle\", \"rb\") as f:\n",
    "            model.layers['BatchNorm' + str(idx)].moving_mean = pickle.load(f)\n",
    "        with open(\"model_params/katakana_model_moving_var\" + str(idx) + \".pickle\", \"rb\") as f:\n",
    "            model.layers['BatchNorm' + str(idx)].moving_var = pickle.load(f)\n",
    "    \n",
    "    model.setParamsAsLayers()\n",
    "        \n",
    "    #計測\n",
    "    accuracy = model.accuracy(test_data, test_label)\n",
    "    loss  = model.loss(test_data, test_label)\n",
    "    \n",
    "    return loss, accuracy # 編集不可\n",
    "\n",
    "\n",
    "def main():\n",
    "    \"\"\"\n",
    "    編集しないでください。\n",
    "    \"\"\"\n",
    "    # テスト用データをつくる\n",
    "    test_data = makedataset()\n",
    "\n",
    "    # 予測し精度を算出する\n",
    "    util.accuracy(func_predict, test_data)\n",
    "    \n",
    "    return\n",
    "\n",
    "\n",
    "if __name__==\"__main__\":\n",
    "    main()"
   ]
  },
  {
   "cell_type": "code",
   "execution_count": null,
   "metadata": {},
   "outputs": [],
   "source": [
    "　"
   ]
  },
  {
   "cell_type": "code",
   "execution_count": null,
   "metadata": {},
   "outputs": [],
   "source": []
  }
 ],
 "metadata": {
  "kernelspec": {
   "display_name": "Python 3",
   "language": "python",
   "name": "python3"
  },
  "language_info": {
   "codemirror_mode": {
    "name": "ipython",
    "version": 3
   },
   "file_extension": ".py",
   "mimetype": "text/x-python",
   "name": "python",
   "nbconvert_exporter": "python",
   "pygments_lexer": "ipython3",
   "version": "3.7.3"
  }
 },
 "nbformat": 4,
 "nbformat_minor": 2
}
